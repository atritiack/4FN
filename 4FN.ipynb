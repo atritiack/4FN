{
 "cells": [
  {
   "cell_type": "code",
   "execution_count": 1,
   "id": "4013b2e6",
   "metadata": {
    "scrolled": false
   },
   "outputs": [
    {
     "name": "stdout",
     "output_type": "stream",
     "text": [
      "Insira o valor do faturamento: 10000\n",
      "Insira o valor do custo: 2300\n",
      "O faturamento é de: 10000. O custo é de: 2300. Portanto, o lucro é de: 7700\n"
     ]
    }
   ],
   "source": [
    "faturamento = int(input('Insira o valor do faturamento: '))\n",
    "custo = int(input('Insira o valor do custo: '))\n",
    "\n",
    "lucro = faturamento - custo\n",
    "\n",
    "print(f'O faturamento é de: {faturamento}. O custo é de: {custo}. Portanto, o lucro é de: {lucro}')"
   ]
  },
  {
   "cell_type": "markdown",
   "id": "ae3b35b0",
   "metadata": {},
   "source": [
    "Exemplo de utilização do Jupyter Notebook. Aula de PA2 do 4FN, dia 17/05/2022."
   ]
  },
  {
   "cell_type": "code",
   "execution_count": 2,
   "id": "f3c5c788",
   "metadata": {},
   "outputs": [
    {
     "data": {
      "text/plain": [
       "7700"
      ]
     },
     "execution_count": 2,
     "metadata": {},
     "output_type": "execute_result"
    }
   ],
   "source": [
    "lucro"
   ]
  },
  {
   "cell_type": "code",
   "execution_count": null,
   "id": "15c94cf0",
   "metadata": {},
   "outputs": [],
   "source": []
  }
 ],
 "metadata": {
  "kernelspec": {
   "display_name": "Python 3 (ipykernel)",
   "language": "python",
   "name": "python3"
  },
  "language_info": {
   "codemirror_mode": {
    "name": "ipython",
    "version": 3
   },
   "file_extension": ".py",
   "mimetype": "text/x-python",
   "name": "python",
   "nbconvert_exporter": "python",
   "pygments_lexer": "ipython3",
   "version": "3.9.7"
  }
 },
 "nbformat": 4,
 "nbformat_minor": 5
}
