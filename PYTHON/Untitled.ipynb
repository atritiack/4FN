{
 "cells": [
  {
   "cell_type": "code",
   "execution_count": 1,
   "id": "63a96cd6",
   "metadata": {},
   "outputs": [
    {
     "name": "stdout",
     "output_type": "stream",
     "text": [
      "Hello world!\n"
     ]
    }
   ],
   "source": [
    "print('Hello world!')"
   ]
  },
  {
   "cell_type": "code",
   "execution_count": 2,
   "id": "64b201c1",
   "metadata": {},
   "outputs": [],
   "source": [
    "faturamento = 5000\n",
    "custo = 2000\n",
    "\n",
    "lucro = faturamento - custo\n"
   ]
  },
  {
   "cell_type": "code",
   "execution_count": 3,
   "id": "2adcbe6b",
   "metadata": {},
   "outputs": [
    {
     "name": "stdout",
     "output_type": "stream",
     "text": [
      "5000\n"
     ]
    }
   ],
   "source": [
    "print(faturamento)"
   ]
  },
  {
   "cell_type": "code",
   "execution_count": 4,
   "id": "af085e41",
   "metadata": {},
   "outputs": [
    {
     "name": "stdout",
     "output_type": "stream",
     "text": [
      "2000\n"
     ]
    }
   ],
   "source": [
    "print(custo)"
   ]
  },
  {
   "cell_type": "code",
   "execution_count": 5,
   "id": "06f33692",
   "metadata": {},
   "outputs": [
    {
     "name": "stdout",
     "output_type": "stream",
     "text": [
      "O faturamento foi de 5000. O custo foi de 2000. O lucro foi de 3000\n"
     ]
    }
   ],
   "source": [
    "print('O faturamento foi de {}. O custo foi de {}. O lucro foi de {}'.format(faturamento, custo, lucro))"
   ]
  },
  {
   "cell_type": "code",
   "execution_count": null,
   "id": "70fc2a03",
   "metadata": {},
   "outputs": [],
   "source": []
  }
 ],
 "metadata": {
  "kernelspec": {
   "display_name": "Python 3 (ipykernel)",
   "language": "python",
   "name": "python3"
  },
  "language_info": {
   "codemirror_mode": {
    "name": "ipython",
    "version": 3
   },
   "file_extension": ".py",
   "mimetype": "text/x-python",
   "name": "python",
   "nbconvert_exporter": "python",
   "pygments_lexer": "ipython3",
   "version": "3.9.7"
  }
 },
 "nbformat": 4,
 "nbformat_minor": 5
}
